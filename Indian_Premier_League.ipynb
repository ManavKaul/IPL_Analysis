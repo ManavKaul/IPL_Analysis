{
  "nbformat": 4,
  "nbformat_minor": 0,
  "metadata": {
    "colab": {
      "name": "Indian Premier League.ipynb",
      "provenance": [],
      "collapsed_sections": [],
      "authorship_tag": "ABX9TyNBVVc0NULWG8zAwDFafuC9",
      "include_colab_link": true
    },
    "kernelspec": {
      "name": "python3",
      "display_name": "Python 3"
    }
  },
  "cells": [
    {
      "cell_type": "markdown",
      "metadata": {
        "id": "view-in-github",
        "colab_type": "text"
      },
      "source": [
        "<a href=\"https://colab.research.google.com/github/ManavKaul/IPL_Analysis/blob/main/Indian_Premier_League.ipynb\" target=\"_parent\"><img src=\"https://colab.research.google.com/assets/colab-badge.svg\" alt=\"Open In Colab\"/></a>"
      ]
    },
    {
      "cell_type": "markdown",
      "metadata": {
        "id": "bywEZTDyBFBy"
      },
      "source": [
        "ANALYSIS OF IMPACT OF TOSS ON RESULT OF INDIAN PREMIER LEAGUE\n",
        "\n",
        "DATA  TAKEN FROM KAGGLE"
      ]
    },
    {
      "cell_type": "code",
      "metadata": {
        "id": "pOFdkPHgc4lt"
      },
      "source": [
        "import numpy as np \n",
        "import pandas as pd "
      ],
      "execution_count": null,
      "outputs": []
    },
    {
      "cell_type": "code",
      "metadata": {
        "id": "dYH5IQ0ietNt"
      },
      "source": [
        "#Creating a dataframe for matches\n",
        "df_matches = pd.read_csv('matches.csv')"
      ],
      "execution_count": null,
      "outputs": []
    },
    {
      "cell_type": "code",
      "metadata": {
        "id": "Yv1phR37fLxH",
        "outputId": "c8e59c6b-118a-4659-ea34-db863a8fb57a",
        "colab": {
          "base_uri": "https://localhost:8080/",
          "height": 787
        }
      },
      "source": [
        "#Selecting top 10 rows from the dataframe\n",
        "df_matches.head(10)"
      ],
      "execution_count": null,
      "outputs": [
        {
          "output_type": "execute_result",
          "data": {
            "text/html": [
              "<div>\n",
              "<style scoped>\n",
              "    .dataframe tbody tr th:only-of-type {\n",
              "        vertical-align: middle;\n",
              "    }\n",
              "\n",
              "    .dataframe tbody tr th {\n",
              "        vertical-align: top;\n",
              "    }\n",
              "\n",
              "    .dataframe thead th {\n",
              "        text-align: right;\n",
              "    }\n",
              "</style>\n",
              "<table border=\"1\" class=\"dataframe\">\n",
              "  <thead>\n",
              "    <tr style=\"text-align: right;\">\n",
              "      <th></th>\n",
              "      <th>id</th>\n",
              "      <th>season</th>\n",
              "      <th>city</th>\n",
              "      <th>date</th>\n",
              "      <th>team1</th>\n",
              "      <th>team2</th>\n",
              "      <th>toss_winner</th>\n",
              "      <th>toss_decision</th>\n",
              "      <th>result</th>\n",
              "      <th>dl_applied</th>\n",
              "      <th>winner</th>\n",
              "      <th>win_by_runs</th>\n",
              "      <th>win_by_wickets</th>\n",
              "      <th>player_of_match</th>\n",
              "      <th>venue</th>\n",
              "      <th>umpire1</th>\n",
              "      <th>umpire2</th>\n",
              "      <th>umpire3</th>\n",
              "    </tr>\n",
              "  </thead>\n",
              "  <tbody>\n",
              "    <tr>\n",
              "      <th>0</th>\n",
              "      <td>1</td>\n",
              "      <td>2017</td>\n",
              "      <td>Hyderabad</td>\n",
              "      <td>2017-04-05</td>\n",
              "      <td>Sunrisers Hyderabad</td>\n",
              "      <td>Royal Challengers Bangalore</td>\n",
              "      <td>Royal Challengers Bangalore</td>\n",
              "      <td>field</td>\n",
              "      <td>normal</td>\n",
              "      <td>0</td>\n",
              "      <td>Sunrisers Hyderabad</td>\n",
              "      <td>35</td>\n",
              "      <td>0</td>\n",
              "      <td>Yuvraj Singh</td>\n",
              "      <td>Rajiv Gandhi International Stadium, Uppal</td>\n",
              "      <td>AY Dandekar</td>\n",
              "      <td>NJ Llong</td>\n",
              "      <td>NaN</td>\n",
              "    </tr>\n",
              "    <tr>\n",
              "      <th>1</th>\n",
              "      <td>2</td>\n",
              "      <td>2017</td>\n",
              "      <td>Pune</td>\n",
              "      <td>2017-04-06</td>\n",
              "      <td>Mumbai Indians</td>\n",
              "      <td>Rising Pune Supergiant</td>\n",
              "      <td>Rising Pune Supergiant</td>\n",
              "      <td>field</td>\n",
              "      <td>normal</td>\n",
              "      <td>0</td>\n",
              "      <td>Rising Pune Supergiant</td>\n",
              "      <td>0</td>\n",
              "      <td>7</td>\n",
              "      <td>SPD Smith</td>\n",
              "      <td>Maharashtra Cricket Association Stadium</td>\n",
              "      <td>A Nand Kishore</td>\n",
              "      <td>S Ravi</td>\n",
              "      <td>NaN</td>\n",
              "    </tr>\n",
              "    <tr>\n",
              "      <th>2</th>\n",
              "      <td>3</td>\n",
              "      <td>2017</td>\n",
              "      <td>Rajkot</td>\n",
              "      <td>2017-04-07</td>\n",
              "      <td>Gujarat Lions</td>\n",
              "      <td>Kolkata Knight Riders</td>\n",
              "      <td>Kolkata Knight Riders</td>\n",
              "      <td>field</td>\n",
              "      <td>normal</td>\n",
              "      <td>0</td>\n",
              "      <td>Kolkata Knight Riders</td>\n",
              "      <td>0</td>\n",
              "      <td>10</td>\n",
              "      <td>CA Lynn</td>\n",
              "      <td>Saurashtra Cricket Association Stadium</td>\n",
              "      <td>Nitin Menon</td>\n",
              "      <td>CK Nandan</td>\n",
              "      <td>NaN</td>\n",
              "    </tr>\n",
              "    <tr>\n",
              "      <th>3</th>\n",
              "      <td>4</td>\n",
              "      <td>2017</td>\n",
              "      <td>Indore</td>\n",
              "      <td>2017-04-08</td>\n",
              "      <td>Rising Pune Supergiant</td>\n",
              "      <td>Kings XI Punjab</td>\n",
              "      <td>Kings XI Punjab</td>\n",
              "      <td>field</td>\n",
              "      <td>normal</td>\n",
              "      <td>0</td>\n",
              "      <td>Kings XI Punjab</td>\n",
              "      <td>0</td>\n",
              "      <td>6</td>\n",
              "      <td>GJ Maxwell</td>\n",
              "      <td>Holkar Cricket Stadium</td>\n",
              "      <td>AK Chaudhary</td>\n",
              "      <td>C Shamshuddin</td>\n",
              "      <td>NaN</td>\n",
              "    </tr>\n",
              "    <tr>\n",
              "      <th>4</th>\n",
              "      <td>5</td>\n",
              "      <td>2017</td>\n",
              "      <td>Bangalore</td>\n",
              "      <td>2017-04-08</td>\n",
              "      <td>Royal Challengers Bangalore</td>\n",
              "      <td>Delhi Daredevils</td>\n",
              "      <td>Royal Challengers Bangalore</td>\n",
              "      <td>bat</td>\n",
              "      <td>normal</td>\n",
              "      <td>0</td>\n",
              "      <td>Royal Challengers Bangalore</td>\n",
              "      <td>15</td>\n",
              "      <td>0</td>\n",
              "      <td>KM Jadhav</td>\n",
              "      <td>M Chinnaswamy Stadium</td>\n",
              "      <td>NaN</td>\n",
              "      <td>NaN</td>\n",
              "      <td>NaN</td>\n",
              "    </tr>\n",
              "    <tr>\n",
              "      <th>5</th>\n",
              "      <td>6</td>\n",
              "      <td>2017</td>\n",
              "      <td>Hyderabad</td>\n",
              "      <td>2017-04-09</td>\n",
              "      <td>Gujarat Lions</td>\n",
              "      <td>Sunrisers Hyderabad</td>\n",
              "      <td>Sunrisers Hyderabad</td>\n",
              "      <td>field</td>\n",
              "      <td>normal</td>\n",
              "      <td>0</td>\n",
              "      <td>Sunrisers Hyderabad</td>\n",
              "      <td>0</td>\n",
              "      <td>9</td>\n",
              "      <td>Rashid Khan</td>\n",
              "      <td>Rajiv Gandhi International Stadium, Uppal</td>\n",
              "      <td>A Deshmukh</td>\n",
              "      <td>NJ Llong</td>\n",
              "      <td>NaN</td>\n",
              "    </tr>\n",
              "    <tr>\n",
              "      <th>6</th>\n",
              "      <td>7</td>\n",
              "      <td>2017</td>\n",
              "      <td>Mumbai</td>\n",
              "      <td>2017-04-09</td>\n",
              "      <td>Kolkata Knight Riders</td>\n",
              "      <td>Mumbai Indians</td>\n",
              "      <td>Mumbai Indians</td>\n",
              "      <td>field</td>\n",
              "      <td>normal</td>\n",
              "      <td>0</td>\n",
              "      <td>Mumbai Indians</td>\n",
              "      <td>0</td>\n",
              "      <td>4</td>\n",
              "      <td>N Rana</td>\n",
              "      <td>Wankhede Stadium</td>\n",
              "      <td>Nitin Menon</td>\n",
              "      <td>CK Nandan</td>\n",
              "      <td>NaN</td>\n",
              "    </tr>\n",
              "    <tr>\n",
              "      <th>7</th>\n",
              "      <td>8</td>\n",
              "      <td>2017</td>\n",
              "      <td>Indore</td>\n",
              "      <td>2017-04-10</td>\n",
              "      <td>Royal Challengers Bangalore</td>\n",
              "      <td>Kings XI Punjab</td>\n",
              "      <td>Royal Challengers Bangalore</td>\n",
              "      <td>bat</td>\n",
              "      <td>normal</td>\n",
              "      <td>0</td>\n",
              "      <td>Kings XI Punjab</td>\n",
              "      <td>0</td>\n",
              "      <td>8</td>\n",
              "      <td>AR Patel</td>\n",
              "      <td>Holkar Cricket Stadium</td>\n",
              "      <td>AK Chaudhary</td>\n",
              "      <td>C Shamshuddin</td>\n",
              "      <td>NaN</td>\n",
              "    </tr>\n",
              "    <tr>\n",
              "      <th>8</th>\n",
              "      <td>9</td>\n",
              "      <td>2017</td>\n",
              "      <td>Pune</td>\n",
              "      <td>2017-04-11</td>\n",
              "      <td>Delhi Daredevils</td>\n",
              "      <td>Rising Pune Supergiant</td>\n",
              "      <td>Rising Pune Supergiant</td>\n",
              "      <td>field</td>\n",
              "      <td>normal</td>\n",
              "      <td>0</td>\n",
              "      <td>Delhi Daredevils</td>\n",
              "      <td>97</td>\n",
              "      <td>0</td>\n",
              "      <td>SV Samson</td>\n",
              "      <td>Maharashtra Cricket Association Stadium</td>\n",
              "      <td>AY Dandekar</td>\n",
              "      <td>S Ravi</td>\n",
              "      <td>NaN</td>\n",
              "    </tr>\n",
              "    <tr>\n",
              "      <th>9</th>\n",
              "      <td>10</td>\n",
              "      <td>2017</td>\n",
              "      <td>Mumbai</td>\n",
              "      <td>2017-04-12</td>\n",
              "      <td>Sunrisers Hyderabad</td>\n",
              "      <td>Mumbai Indians</td>\n",
              "      <td>Mumbai Indians</td>\n",
              "      <td>field</td>\n",
              "      <td>normal</td>\n",
              "      <td>0</td>\n",
              "      <td>Mumbai Indians</td>\n",
              "      <td>0</td>\n",
              "      <td>4</td>\n",
              "      <td>JJ Bumrah</td>\n",
              "      <td>Wankhede Stadium</td>\n",
              "      <td>Nitin Menon</td>\n",
              "      <td>CK Nandan</td>\n",
              "      <td>NaN</td>\n",
              "    </tr>\n",
              "  </tbody>\n",
              "</table>\n",
              "</div>"
            ],
            "text/plain": [
              "   id  season       city  ...         umpire1        umpire2 umpire3\n",
              "0   1    2017  Hyderabad  ...     AY Dandekar       NJ Llong     NaN\n",
              "1   2    2017       Pune  ...  A Nand Kishore         S Ravi     NaN\n",
              "2   3    2017     Rajkot  ...     Nitin Menon      CK Nandan     NaN\n",
              "3   4    2017     Indore  ...    AK Chaudhary  C Shamshuddin     NaN\n",
              "4   5    2017  Bangalore  ...             NaN            NaN     NaN\n",
              "5   6    2017  Hyderabad  ...      A Deshmukh       NJ Llong     NaN\n",
              "6   7    2017     Mumbai  ...     Nitin Menon      CK Nandan     NaN\n",
              "7   8    2017     Indore  ...    AK Chaudhary  C Shamshuddin     NaN\n",
              "8   9    2017       Pune  ...     AY Dandekar         S Ravi     NaN\n",
              "9  10    2017     Mumbai  ...     Nitin Menon      CK Nandan     NaN\n",
              "\n",
              "[10 rows x 18 columns]"
            ]
          },
          "metadata": {
            "tags": []
          },
          "execution_count": 13
        }
      ]
    },
    {
      "cell_type": "code",
      "metadata": {
        "id": "myP8ElZnfYLI",
        "outputId": "08eff137-cc63-41f9-e044-a50dfb88e953",
        "colab": {
          "base_uri": "https://localhost:8080/",
          "height": 289
        }
      },
      "source": [
        "#Finding Number of matches won by each team\n",
        "df_matches['winner'].sort_values().value_counts()"
      ],
      "execution_count": null,
      "outputs": [
        {
          "output_type": "execute_result",
          "data": {
            "text/plain": [
              "Mumbai Indians                 109\n",
              "Chennai Super Kings            100\n",
              "Kolkata Knight Riders           92\n",
              "Royal Challengers Bangalore     84\n",
              "Kings XI Punjab                 82\n",
              "Rajasthan Royals                75\n",
              "Delhi Daredevils                67\n",
              "Sunrisers Hyderabad             58\n",
              "Deccan Chargers                 29\n",
              "Gujarat Lions                   13\n",
              "Pune Warriors                   12\n",
              "Rising Pune Supergiant          10\n",
              "Delhi Capitals                  10\n",
              "Kochi Tuskers Kerala             6\n",
              "Rising Pune Supergiants          5\n",
              "Name: winner, dtype: int64"
            ]
          },
          "metadata": {
            "tags": []
          },
          "execution_count": 18
        }
      ]
    },
    {
      "cell_type": "code",
      "metadata": {
        "id": "f7bhUxDjftGE"
      },
      "source": [
        "# Grouping the number of matched won by teams and sorting it based on the count of the matches.\n",
        "winners_df_matches = df_matches.groupby('winner', sort = False).count().id.sort_values(ascending = False)\n"
      ],
      "execution_count": null,
      "outputs": []
    },
    {
      "cell_type": "code",
      "metadata": {
        "id": "IqCFwQZQf8ZO",
        "outputId": "7926255f-51ab-4354-f6c3-0234f2d685e8",
        "colab": {
          "base_uri": "https://localhost:8080/",
          "height": 446
        }
      },
      "source": [
        "# Plotting a chart for winners\n",
        "winners_df_matches.plot(kind = 'bar', title = 'Games Won', label = 'Number of wins',color=['r','b','y','k','g'] )"
      ],
      "execution_count": null,
      "outputs": [
        {
          "output_type": "execute_result",
          "data": {
            "text/plain": [
              "<matplotlib.axes._subplots.AxesSubplot at 0x7f97c8a29358>"
            ]
          },
          "metadata": {
            "tags": []
          },
          "execution_count": 54
        },
        {
          "output_type": "display_data",
          "data": {
            "image/png": "[encoded data removed]",
            "text/plain": [
              "<Figure size 432x288 with 1 Axes>"
            ]
          },
          "metadata": {
            "tags": [],
            "needs_background": "light"
          }
        }
      ]
    },
    {
      "cell_type": "markdown",
      "metadata": {
        "id": "8teToGvnm6tY"
      },
      "source": [
        "As You Can Mumbai Indians and Chennai Super Kings are the only teams so far to have won more than 100 games.\n",
        "Teams which have played all seasons have more number of matches won\n",
        "Teams to win the least have also played the least seasons"
      ]
    },
    {
      "cell_type": "code",
      "metadata": {
        "id": "4Pdo3sDihZVV"
      },
      "source": [
        "#Matches where winning team that won the toss also \n",
        "winning_toss = df_matches[(df_matches['toss_winner'] == df_matches['winner'])]\n",
        "#Matches where winning team that lost the toss \n",
        "loss_toss = df_matches[(df_matches['toss_winner'] != df_matches['winner'])]"
      ],
      "execution_count": null,
      "outputs": []
    },
    {
      "cell_type": "code",
      "metadata": {
        "id": "uTZKPpjQjhRa",
        "outputId": "67aa6c85-b1b6-4473-eb3b-fee2a1e2c5ab",
        "colab": {
          "base_uri": "https://localhost:8080/",
          "height": 311
        }
      },
      "source": [
        "#Plotting the toss data\n",
        "df_toss =pd.DataFrame({\"Team won the toss\":[ winning_toss.shape[0],loss_toss.shape[0]  ]}, index = ['Win', 'Lose'])\n",
        "df_toss.plot( kind = 'bar' , legend = False , title = \"Result of team who wins the toss\",color=['r'])"
      ],
      "execution_count": null,
      "outputs": [
        {
          "output_type": "execute_result",
          "data": {
            "text/plain": [
              "<matplotlib.axes._subplots.AxesSubplot at 0x7f97c8ad5080>"
            ]
          },
          "metadata": {
            "tags": []
          },
          "execution_count": 52
        },
        {
          "output_type": "display_data",
          "data": {
            "image/png": "[encoded data removed]",
            "text/plain": [
              "<Figure size 432x288 with 1 Axes>"
            ]
          },
          "metadata": {
            "tags": [],
            "needs_background": "light"
          }
        }
      ]
    },
    {
      "cell_type": "markdown",
      "metadata": {
        "id": "GHpMgamUmaRk"
      },
      "source": [
        "WE CAN SEE THAT WINNING TOSS HAS NO SIGNIFICANT INFLUENCE OVER MATCH OUTCOME AS BOTH ARE NEARLY THE SAME"
      ]
    },
    {
      "cell_type": "code",
      "metadata": {
        "id": "ChqQVb_mmZ6R"
      },
      "source": [
        "team_batting_first_won = df_matches.loc[(df_matches['toss_winner'] == df_matches['winner']) & (df_matches['toss_decision'] == 'bat'), ['id', 'winner']]\n",
        "team_fielding_first_won = df_matches.loc[(df_matches['toss_winner'] == df_matches['winner']) & (df_matches['toss_decision'] == 'field'),  ['id', 'winner']]"
      ],
      "execution_count": null,
      "outputs": []
    },
    {
      "cell_type": "code",
      "metadata": {
        "id": "EQ6GwjFUkg-H"
      },
      "source": [
        "team_fielding_first_won_df= team_fielding_first_won['winner'].value_counts()\n",
        "team_batting_first_won_df = team_batting_first_won['winner'].value_counts()"
      ],
      "execution_count": null,
      "outputs": []
    },
    {
      "cell_type": "code",
      "metadata": {
        "id": "gr1roHHGKV4s",
        "outputId": "e9cd26cf-2322-407f-8592-65ace5151cc8",
        "colab": {
          "base_uri": "https://localhost:8080/",
          "height": 432
        }
      },
      "source": [
        "#Plotting for number of times each team won toss and chose to bat first and went on to win the match\n",
        "team_batting_first_won_df.plot(kind = 'bar', title = 'Team winning toss and chose to bat first',color=['r','b','y','k','g'])"
      ],
      "execution_count": 58,
      "outputs": [
        {
          "output_type": "execute_result",
          "data": {
            "text/plain": [
              "<matplotlib.axes._subplots.AxesSubplot at 0x7f97c8871b00>"
            ]
          },
          "metadata": {
            "tags": []
          },
          "execution_count": 58
        },
        {
          "output_type": "display_data",
          "data": {
            "image/png": "[encoded data removed]",
            "text/plain": [
              "<Figure size 432x288 with 1 Axes>"
            ]
          },
          "metadata": {
            "tags": [],
            "needs_background": "light"
          }
        }
      ]
    },
    {
      "cell_type": "markdown",
      "metadata": {
        "id": "iBqGOaefQaPw"
      },
      "source": [
        "FROM THE PLOT **ABOVE** AND **BELOW** ON COMPARISON IT IS CLEAR THAT\n",
        "\n",
        "MUMBAI INDIANS AND CSK PREFER TO BAT FIRST ON WINNING TOSS \n",
        "\n",
        "RCB AND KKR PREFER TO BOWL FIRST ON WINNING THE TOSS\n",
        "\n",
        "THIS IS SIGNIFICANT AS DATA PREVIOUSLY REVEALED MI & CSK TO BE THE STRONGEST TEAMS WITH MOST WINS"
      ]
    },
    {
      "cell_type": "code",
      "metadata": {
        "id": "C8JAH1HNNkNn",
        "outputId": "2bf78533-641f-4ea8-8365-d81536cb4b84",
        "colab": {
          "base_uri": "https://localhost:8080/",
          "height": 432
        }
      },
      "source": [
        "#Plotting for number of times each team won toss and chose to bowl first and went on to win the match\n",
        "team_fielding_first_won_df.plot(kind = 'bar', title = 'Team winning toss and chose to bowl first',color=['r','b','y','k','g'])"
      ],
      "execution_count": 57,
      "outputs": [
        {
          "output_type": "execute_result",
          "data": {
            "text/plain": [
              "<matplotlib.axes._subplots.AxesSubplot at 0x7f97c87aa278>"
            ]
          },
          "metadata": {
            "tags": []
          },
          "execution_count": 57
        },
        {
          "output_type": "display_data",
          "data": {
            "image/png": "[encoded data removed]",
            "text/plain": [
              "<Figure size 432x288 with 1 Axes>"
            ]
          },
          "metadata": {
            "tags": [],
            "needs_background": "light"
          }
        }
      ]
    },
    {
      "cell_type": "markdown",
      "metadata": {
        "id": "uRdnD0r6Tz0H"
      },
      "source": [
        "# **CONCLUSION**\n",
        "IPL is a fast paced game. With just 20 overs to play, each and every ball counts\n",
        "\n",
        "Even though pitch and conditions play a major role in choosing whether to field first or to bat first\n",
        "\n",
        "However there is a huge psychological factor in terms of pressure which the chasing team has to take in this short game format with high stakes\n",
        "\n",
        "The data analysis reveals that the teams which chose to bat first on winning toss have a higher success rate than the teams which choose to chase "
      ]
    }
  ]
}